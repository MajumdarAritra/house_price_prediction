{
  "nbformat": 4,
  "nbformat_minor": 0,
  "metadata": {
    "colab": {
      "provenance": [],
      "authorship_tag": "ABX9TyPDJ4ZmzRkDhYUjBGuJ/cfw",
      "include_colab_link": true
    },
    "kernelspec": {
      "name": "python3",
      "display_name": "Python 3"
    },
    "language_info": {
      "name": "python"
    }
  },
  "cells": [
    {
      "cell_type": "markdown",
      "metadata": {
        "id": "view-in-github",
        "colab_type": "text"
      },
      "source": [
        "<a href=\"https://colab.research.google.com/github/MajumdarAritra/house_price_prediction/blob/main/House_price_prediction.ipynb\" target=\"_parent\"><img src=\"https://colab.research.google.com/assets/colab-badge.svg\" alt=\"Open In Colab\"/></a>"
      ]
    },
    {
      "cell_type": "code",
      "execution_count": null,
      "metadata": {
        "colab": {
          "base_uri": "https://localhost:8080/",
          "height": 270
        },
        "id": "l5sMztlyxO2g",
        "outputId": "b5348cb4-e2f2-4011-cc7b-bfaa07da89d0"
      },
      "outputs": [
        {
          "output_type": "execute_result",
          "data": {
            "text/plain": [
              "   X1_Transaction_Date  X2_House_Age  X3_Distance_of_Nearest_MRT_Station  \\\n",
              "0             2012.917           NaN                            84.87882   \n",
              "1             2012.917          19.5                           306.59470   \n",
              "2             2013.583          13.3                           561.98450   \n",
              "3             2013.500          13.3                           561.98450   \n",
              "4             2012.833           5.0                           390.56840   \n",
              "\n",
              "   X4_Number_of_Convenience_Stores  X5_Latitude  X6_Longitude  \\\n",
              "0                               10     24.98298     121.54024   \n",
              "1                                9     24.98034     121.53951   \n",
              "2                                5     24.98746     121.54391   \n",
              "3                                5     24.98746     121.54391   \n",
              "4                                5     24.97937     121.54245   \n",
              "\n",
              "   Y_House_Price_of_Unit_Area  \n",
              "0                        37.9  \n",
              "1                        42.2  \n",
              "2                        47.3  \n",
              "3                        54.8  \n",
              "4                        43.1  "
            ],
            "text/html": [
              "\n",
              "  <div id=\"df-ba415c67-d9b3-42c1-90aa-085489ba7595\">\n",
              "    <div class=\"colab-df-container\">\n",
              "      <div>\n",
              "<style scoped>\n",
              "    .dataframe tbody tr th:only-of-type {\n",
              "        vertical-align: middle;\n",
              "    }\n",
              "\n",
              "    .dataframe tbody tr th {\n",
              "        vertical-align: top;\n",
              "    }\n",
              "\n",
              "    .dataframe thead th {\n",
              "        text-align: right;\n",
              "    }\n",
              "</style>\n",
              "<table border=\"1\" class=\"dataframe\">\n",
              "  <thead>\n",
              "    <tr style=\"text-align: right;\">\n",
              "      <th></th>\n",
              "      <th>X1_Transaction_Date</th>\n",
              "      <th>X2_House_Age</th>\n",
              "      <th>X3_Distance_of_Nearest_MRT_Station</th>\n",
              "      <th>X4_Number_of_Convenience_Stores</th>\n",
              "      <th>X5_Latitude</th>\n",
              "      <th>X6_Longitude</th>\n",
              "      <th>Y_House_Price_of_Unit_Area</th>\n",
              "    </tr>\n",
              "  </thead>\n",
              "  <tbody>\n",
              "    <tr>\n",
              "      <th>0</th>\n",
              "      <td>2012.917</td>\n",
              "      <td>NaN</td>\n",
              "      <td>84.87882</td>\n",
              "      <td>10</td>\n",
              "      <td>24.98298</td>\n",
              "      <td>121.54024</td>\n",
              "      <td>37.9</td>\n",
              "    </tr>\n",
              "    <tr>\n",
              "      <th>1</th>\n",
              "      <td>2012.917</td>\n",
              "      <td>19.5</td>\n",
              "      <td>306.59470</td>\n",
              "      <td>9</td>\n",
              "      <td>24.98034</td>\n",
              "      <td>121.53951</td>\n",
              "      <td>42.2</td>\n",
              "    </tr>\n",
              "    <tr>\n",
              "      <th>2</th>\n",
              "      <td>2013.583</td>\n",
              "      <td>13.3</td>\n",
              "      <td>561.98450</td>\n",
              "      <td>5</td>\n",
              "      <td>24.98746</td>\n",
              "      <td>121.54391</td>\n",
              "      <td>47.3</td>\n",
              "    </tr>\n",
              "    <tr>\n",
              "      <th>3</th>\n",
              "      <td>2013.500</td>\n",
              "      <td>13.3</td>\n",
              "      <td>561.98450</td>\n",
              "      <td>5</td>\n",
              "      <td>24.98746</td>\n",
              "      <td>121.54391</td>\n",
              "      <td>54.8</td>\n",
              "    </tr>\n",
              "    <tr>\n",
              "      <th>4</th>\n",
              "      <td>2012.833</td>\n",
              "      <td>5.0</td>\n",
              "      <td>390.56840</td>\n",
              "      <td>5</td>\n",
              "      <td>24.97937</td>\n",
              "      <td>121.54245</td>\n",
              "      <td>43.1</td>\n",
              "    </tr>\n",
              "  </tbody>\n",
              "</table>\n",
              "</div>\n",
              "      <button class=\"colab-df-convert\" onclick=\"convertToInteractive('df-ba415c67-d9b3-42c1-90aa-085489ba7595')\"\n",
              "              title=\"Convert this dataframe to an interactive table.\"\n",
              "              style=\"display:none;\">\n",
              "        \n",
              "  <svg xmlns=\"http://www.w3.org/2000/svg\" height=\"24px\"viewBox=\"0 0 24 24\"\n",
              "       width=\"24px\">\n",
              "    <path d=\"M0 0h24v24H0V0z\" fill=\"none\"/>\n",
              "    <path d=\"M18.56 5.44l.94 2.06.94-2.06 2.06-.94-2.06-.94-.94-2.06-.94 2.06-2.06.94zm-11 1L8.5 8.5l.94-2.06 2.06-.94-2.06-.94L8.5 2.5l-.94 2.06-2.06.94zm10 10l.94 2.06.94-2.06 2.06-.94-2.06-.94-.94-2.06-.94 2.06-2.06.94z\"/><path d=\"M17.41 7.96l-1.37-1.37c-.4-.4-.92-.59-1.43-.59-.52 0-1.04.2-1.43.59L10.3 9.45l-7.72 7.72c-.78.78-.78 2.05 0 2.83L4 21.41c.39.39.9.59 1.41.59.51 0 1.02-.2 1.41-.59l7.78-7.78 2.81-2.81c.8-.78.8-2.07 0-2.86zM5.41 20L4 18.59l7.72-7.72 1.47 1.35L5.41 20z\"/>\n",
              "  </svg>\n",
              "      </button>\n",
              "      \n",
              "  <style>\n",
              "    .colab-df-container {\n",
              "      display:flex;\n",
              "      flex-wrap:wrap;\n",
              "      gap: 12px;\n",
              "    }\n",
              "\n",
              "    .colab-df-convert {\n",
              "      background-color: #E8F0FE;\n",
              "      border: none;\n",
              "      border-radius: 50%;\n",
              "      cursor: pointer;\n",
              "      display: none;\n",
              "      fill: #1967D2;\n",
              "      height: 32px;\n",
              "      padding: 0 0 0 0;\n",
              "      width: 32px;\n",
              "    }\n",
              "\n",
              "    .colab-df-convert:hover {\n",
              "      background-color: #E2EBFA;\n",
              "      box-shadow: 0px 1px 2px rgba(60, 64, 67, 0.3), 0px 1px 3px 1px rgba(60, 64, 67, 0.15);\n",
              "      fill: #174EA6;\n",
              "    }\n",
              "\n",
              "    [theme=dark] .colab-df-convert {\n",
              "      background-color: #3B4455;\n",
              "      fill: #D2E3FC;\n",
              "    }\n",
              "\n",
              "    [theme=dark] .colab-df-convert:hover {\n",
              "      background-color: #434B5C;\n",
              "      box-shadow: 0px 1px 3px 1px rgba(0, 0, 0, 0.15);\n",
              "      filter: drop-shadow(0px 1px 2px rgba(0, 0, 0, 0.3));\n",
              "      fill: #FFFFFF;\n",
              "    }\n",
              "  </style>\n",
              "\n",
              "      <script>\n",
              "        const buttonEl =\n",
              "          document.querySelector('#df-ba415c67-d9b3-42c1-90aa-085489ba7595 button.colab-df-convert');\n",
              "        buttonEl.style.display =\n",
              "          google.colab.kernel.accessAllowed ? 'block' : 'none';\n",
              "\n",
              "        async function convertToInteractive(key) {\n",
              "          const element = document.querySelector('#df-ba415c67-d9b3-42c1-90aa-085489ba7595');\n",
              "          const dataTable =\n",
              "            await google.colab.kernel.invokeFunction('convertToInteractive',\n",
              "                                                     [key], {});\n",
              "          if (!dataTable) return;\n",
              "\n",
              "          const docLinkHtml = 'Like what you see? Visit the ' +\n",
              "            '<a target=\"_blank\" href=https://colab.research.google.com/notebooks/data_table.ipynb>data table notebook</a>'\n",
              "            + ' to learn more about interactive tables.';\n",
              "          element.innerHTML = '';\n",
              "          dataTable['output_type'] = 'display_data';\n",
              "          await google.colab.output.renderOutput(dataTable, element);\n",
              "          const docLink = document.createElement('div');\n",
              "          docLink.innerHTML = docLinkHtml;\n",
              "          element.appendChild(docLink);\n",
              "        }\n",
              "      </script>\n",
              "    </div>\n",
              "  </div>\n",
              "  "
            ]
          },
          "metadata": {},
          "execution_count": 162
        }
      ],
      "source": [
        "import pandas as pd\n",
        "housing = pd.read_csv(\"Real_Estate.csv\")\n",
        "housing=housing.drop('No',axis=1)\n",
        "housing.head()"
      ]
    },
    {
      "cell_type": "code",
      "source": [
        "from google.colab import drive\n",
        "drive.mount('/content/drive')"
      ],
      "metadata": {
        "colab": {
          "base_uri": "https://localhost:8080/"
        },
        "id": "9JYegS6WVvdn",
        "outputId": "ead84c86-8320-4481-b317-55c5edc7da96"
      },
      "execution_count": null,
      "outputs": [
        {
          "output_type": "stream",
          "name": "stdout",
          "text": [
            "Drive already mounted at /content/drive; to attempt to forcibly remount, call drive.mount(\"/content/drive\", force_remount=True).\n"
          ]
        }
      ]
    },
    {
      "cell_type": "code",
      "source": [
        "housing.info()"
      ],
      "metadata": {
        "colab": {
          "base_uri": "https://localhost:8080/"
        },
        "id": "EUPc5jtoyfs_",
        "outputId": "ab3ec383-8613-4142-d73a-36b82d4d6aca"
      },
      "execution_count": null,
      "outputs": [
        {
          "output_type": "stream",
          "name": "stdout",
          "text": [
            "<class 'pandas.core.frame.DataFrame'>\n",
            "RangeIndex: 414 entries, 0 to 413\n",
            "Data columns (total 7 columns):\n",
            " #   Column                              Non-Null Count  Dtype  \n",
            "---  ------                              --------------  -----  \n",
            " 0   X1_Transaction_Date                 414 non-null    float64\n",
            " 1   X2_House_Age                        409 non-null    float64\n",
            " 2   X3_Distance_of_Nearest_MRT_Station  414 non-null    float64\n",
            " 3   X4_Number_of_Convenience_Stores     414 non-null    int64  \n",
            " 4   X5_Latitude                         414 non-null    float64\n",
            " 5   X6_Longitude                        414 non-null    float64\n",
            " 6   Y_House_Price_of_Unit_Area          414 non-null    float64\n",
            "dtypes: float64(6), int64(1)\n",
            "memory usage: 22.8 KB\n"
          ]
        }
      ]
    },
    {
      "cell_type": "code",
      "source": [
        "housing['X4_Number_of_Convenience_Stores'].value_counts()"
      ],
      "metadata": {
        "colab": {
          "base_uri": "https://localhost:8080/"
        },
        "id": "8MaLKvRh0Hhm",
        "outputId": "203d01bf-581e-4d7c-dd54-a3c83eafe2b5"
      },
      "execution_count": null,
      "outputs": [
        {
          "output_type": "execute_result",
          "data": {
            "text/plain": [
              "5     67\n",
              "0     67\n",
              "3     46\n",
              "1     46\n",
              "6     37\n",
              "7     31\n",
              "4     31\n",
              "8     30\n",
              "9     25\n",
              "2     24\n",
              "10    10\n",
              "Name: X4_Number_of_Convenience_Stores, dtype: int64"
            ]
          },
          "metadata": {},
          "execution_count": 165
        }
      ]
    },
    {
      "cell_type": "code",
      "source": [
        "housing.describe()"
      ],
      "metadata": {
        "colab": {
          "base_uri": "https://localhost:8080/",
          "height": 364
        },
        "id": "-rXyd4Kp0joa",
        "outputId": "af1cf28a-9881-470b-8e82-2098fa57b633"
      },
      "execution_count": null,
      "outputs": [
        {
          "output_type": "execute_result",
          "data": {
            "text/plain": [
              "       X1_Transaction_Date  X2_House_Age  X3_Distance_of_Nearest_MRT_Station  \\\n",
              "count           414.000000    409.000000                          414.000000   \n",
              "mean           2013.148971     17.677506                         1083.885689   \n",
              "std               0.281967     11.419861                         1262.109595   \n",
              "min            2012.667000      0.000000                           23.382840   \n",
              "25%            2012.917000      8.900000                          289.324800   \n",
              "50%            2013.167000     16.100000                          492.231300   \n",
              "75%            2013.417000     28.000000                         1454.279000   \n",
              "max            2013.583000     43.800000                         6488.021000   \n",
              "\n",
              "       X4_Number_of_Convenience_Stores  X5_Latitude  X6_Longitude  \\\n",
              "count                       414.000000   414.000000    414.000000   \n",
              "mean                          4.094203    24.969030    121.533361   \n",
              "std                           2.945562     0.012410      0.015347   \n",
              "min                           0.000000    24.932070    121.473530   \n",
              "25%                           1.000000    24.963000    121.528085   \n",
              "50%                           4.000000    24.971100    121.538630   \n",
              "75%                           6.000000    24.977455    121.543305   \n",
              "max                          10.000000    25.014590    121.566270   \n",
              "\n",
              "       Y_House_Price_of_Unit_Area  \n",
              "count                  414.000000  \n",
              "mean                    37.980193  \n",
              "std                     13.606488  \n",
              "min                      7.600000  \n",
              "25%                     27.700000  \n",
              "50%                     38.450000  \n",
              "75%                     46.600000  \n",
              "max                    117.500000  "
            ],
            "text/html": [
              "\n",
              "  <div id=\"df-3086b9bd-62d0-4e6d-998f-22cebf5aa5c6\">\n",
              "    <div class=\"colab-df-container\">\n",
              "      <div>\n",
              "<style scoped>\n",
              "    .dataframe tbody tr th:only-of-type {\n",
              "        vertical-align: middle;\n",
              "    }\n",
              "\n",
              "    .dataframe tbody tr th {\n",
              "        vertical-align: top;\n",
              "    }\n",
              "\n",
              "    .dataframe thead th {\n",
              "        text-align: right;\n",
              "    }\n",
              "</style>\n",
              "<table border=\"1\" class=\"dataframe\">\n",
              "  <thead>\n",
              "    <tr style=\"text-align: right;\">\n",
              "      <th></th>\n",
              "      <th>X1_Transaction_Date</th>\n",
              "      <th>X2_House_Age</th>\n",
              "      <th>X3_Distance_of_Nearest_MRT_Station</th>\n",
              "      <th>X4_Number_of_Convenience_Stores</th>\n",
              "      <th>X5_Latitude</th>\n",
              "      <th>X6_Longitude</th>\n",
              "      <th>Y_House_Price_of_Unit_Area</th>\n",
              "    </tr>\n",
              "  </thead>\n",
              "  <tbody>\n",
              "    <tr>\n",
              "      <th>count</th>\n",
              "      <td>414.000000</td>\n",
              "      <td>409.000000</td>\n",
              "      <td>414.000000</td>\n",
              "      <td>414.000000</td>\n",
              "      <td>414.000000</td>\n",
              "      <td>414.000000</td>\n",
              "      <td>414.000000</td>\n",
              "    </tr>\n",
              "    <tr>\n",
              "      <th>mean</th>\n",
              "      <td>2013.148971</td>\n",
              "      <td>17.677506</td>\n",
              "      <td>1083.885689</td>\n",
              "      <td>4.094203</td>\n",
              "      <td>24.969030</td>\n",
              "      <td>121.533361</td>\n",
              "      <td>37.980193</td>\n",
              "    </tr>\n",
              "    <tr>\n",
              "      <th>std</th>\n",
              "      <td>0.281967</td>\n",
              "      <td>11.419861</td>\n",
              "      <td>1262.109595</td>\n",
              "      <td>2.945562</td>\n",
              "      <td>0.012410</td>\n",
              "      <td>0.015347</td>\n",
              "      <td>13.606488</td>\n",
              "    </tr>\n",
              "    <tr>\n",
              "      <th>min</th>\n",
              "      <td>2012.667000</td>\n",
              "      <td>0.000000</td>\n",
              "      <td>23.382840</td>\n",
              "      <td>0.000000</td>\n",
              "      <td>24.932070</td>\n",
              "      <td>121.473530</td>\n",
              "      <td>7.600000</td>\n",
              "    </tr>\n",
              "    <tr>\n",
              "      <th>25%</th>\n",
              "      <td>2012.917000</td>\n",
              "      <td>8.900000</td>\n",
              "      <td>289.324800</td>\n",
              "      <td>1.000000</td>\n",
              "      <td>24.963000</td>\n",
              "      <td>121.528085</td>\n",
              "      <td>27.700000</td>\n",
              "    </tr>\n",
              "    <tr>\n",
              "      <th>50%</th>\n",
              "      <td>2013.167000</td>\n",
              "      <td>16.100000</td>\n",
              "      <td>492.231300</td>\n",
              "      <td>4.000000</td>\n",
              "      <td>24.971100</td>\n",
              "      <td>121.538630</td>\n",
              "      <td>38.450000</td>\n",
              "    </tr>\n",
              "    <tr>\n",
              "      <th>75%</th>\n",
              "      <td>2013.417000</td>\n",
              "      <td>28.000000</td>\n",
              "      <td>1454.279000</td>\n",
              "      <td>6.000000</td>\n",
              "      <td>24.977455</td>\n",
              "      <td>121.543305</td>\n",
              "      <td>46.600000</td>\n",
              "    </tr>\n",
              "    <tr>\n",
              "      <th>max</th>\n",
              "      <td>2013.583000</td>\n",
              "      <td>43.800000</td>\n",
              "      <td>6488.021000</td>\n",
              "      <td>10.000000</td>\n",
              "      <td>25.014590</td>\n",
              "      <td>121.566270</td>\n",
              "      <td>117.500000</td>\n",
              "    </tr>\n",
              "  </tbody>\n",
              "</table>\n",
              "</div>\n",
              "      <button class=\"colab-df-convert\" onclick=\"convertToInteractive('df-3086b9bd-62d0-4e6d-998f-22cebf5aa5c6')\"\n",
              "              title=\"Convert this dataframe to an interactive table.\"\n",
              "              style=\"display:none;\">\n",
              "        \n",
              "  <svg xmlns=\"http://www.w3.org/2000/svg\" height=\"24px\"viewBox=\"0 0 24 24\"\n",
              "       width=\"24px\">\n",
              "    <path d=\"M0 0h24v24H0V0z\" fill=\"none\"/>\n",
              "    <path d=\"M18.56 5.44l.94 2.06.94-2.06 2.06-.94-2.06-.94-.94-2.06-.94 2.06-2.06.94zm-11 1L8.5 8.5l.94-2.06 2.06-.94-2.06-.94L8.5 2.5l-.94 2.06-2.06.94zm10 10l.94 2.06.94-2.06 2.06-.94-2.06-.94-.94-2.06-.94 2.06-2.06.94z\"/><path d=\"M17.41 7.96l-1.37-1.37c-.4-.4-.92-.59-1.43-.59-.52 0-1.04.2-1.43.59L10.3 9.45l-7.72 7.72c-.78.78-.78 2.05 0 2.83L4 21.41c.39.39.9.59 1.41.59.51 0 1.02-.2 1.41-.59l7.78-7.78 2.81-2.81c.8-.78.8-2.07 0-2.86zM5.41 20L4 18.59l7.72-7.72 1.47 1.35L5.41 20z\"/>\n",
              "  </svg>\n",
              "      </button>\n",
              "      \n",
              "  <style>\n",
              "    .colab-df-container {\n",
              "      display:flex;\n",
              "      flex-wrap:wrap;\n",
              "      gap: 12px;\n",
              "    }\n",
              "\n",
              "    .colab-df-convert {\n",
              "      background-color: #E8F0FE;\n",
              "      border: none;\n",
              "      border-radius: 50%;\n",
              "      cursor: pointer;\n",
              "      display: none;\n",
              "      fill: #1967D2;\n",
              "      height: 32px;\n",
              "      padding: 0 0 0 0;\n",
              "      width: 32px;\n",
              "    }\n",
              "\n",
              "    .colab-df-convert:hover {\n",
              "      background-color: #E2EBFA;\n",
              "      box-shadow: 0px 1px 2px rgba(60, 64, 67, 0.3), 0px 1px 3px 1px rgba(60, 64, 67, 0.15);\n",
              "      fill: #174EA6;\n",
              "    }\n",
              "\n",
              "    [theme=dark] .colab-df-convert {\n",
              "      background-color: #3B4455;\n",
              "      fill: #D2E3FC;\n",
              "    }\n",
              "\n",
              "    [theme=dark] .colab-df-convert:hover {\n",
              "      background-color: #434B5C;\n",
              "      box-shadow: 0px 1px 3px 1px rgba(0, 0, 0, 0.15);\n",
              "      filter: drop-shadow(0px 1px 2px rgba(0, 0, 0, 0.3));\n",
              "      fill: #FFFFFF;\n",
              "    }\n",
              "  </style>\n",
              "\n",
              "      <script>\n",
              "        const buttonEl =\n",
              "          document.querySelector('#df-3086b9bd-62d0-4e6d-998f-22cebf5aa5c6 button.colab-df-convert');\n",
              "        buttonEl.style.display =\n",
              "          google.colab.kernel.accessAllowed ? 'block' : 'none';\n",
              "\n",
              "        async function convertToInteractive(key) {\n",
              "          const element = document.querySelector('#df-3086b9bd-62d0-4e6d-998f-22cebf5aa5c6');\n",
              "          const dataTable =\n",
              "            await google.colab.kernel.invokeFunction('convertToInteractive',\n",
              "                                                     [key], {});\n",
              "          if (!dataTable) return;\n",
              "\n",
              "          const docLinkHtml = 'Like what you see? Visit the ' +\n",
              "            '<a target=\"_blank\" href=https://colab.research.google.com/notebooks/data_table.ipynb>data table notebook</a>'\n",
              "            + ' to learn more about interactive tables.';\n",
              "          element.innerHTML = '';\n",
              "          dataTable['output_type'] = 'display_data';\n",
              "          await google.colab.output.renderOutput(dataTable, element);\n",
              "          const docLink = document.createElement('div');\n",
              "          docLink.innerHTML = docLinkHtml;\n",
              "          element.appendChild(docLink);\n",
              "        }\n",
              "      </script>\n",
              "    </div>\n",
              "  </div>\n",
              "  "
            ]
          },
          "metadata": {},
          "execution_count": 166
        }
      ]
    },
    {
      "cell_type": "code",
      "source": [
        "%matplotlib inline\n",
        "from matplotlib import pyplot as plt"
      ],
      "metadata": {
        "id": "SBYyMEYl1i5m"
      },
      "execution_count": null,
      "outputs": []
    },
    {
      "cell_type": "code",
      "source": [
        "housing.hist(bins=50,figsize=(20,15))"
      ],
      "metadata": {
        "colab": {
          "base_uri": "https://localhost:8080/",
          "height": 1000
        },
        "id": "tM_E5aKG1sZA",
        "outputId": "c0d9e6b2-aa04-4f77-94e6-8da39cd45be1"
      },
      "execution_count": null,
      "outputs": [
        {
          "output_type": "execute_result",
          "data": {
            "text/plain": [
              "array([[<Axes: title={'center': 'X1_Transaction_Date'}>,\n",
              "        <Axes: title={'center': 'X2_House_Age'}>,\n",
              "        <Axes: title={'center': 'X3_Distance_of_Nearest_MRT_Station'}>],\n",
              "       [<Axes: title={'center': 'X4_Number_of_Convenience_Stores'}>,\n",
              "        <Axes: title={'center': 'X5_Latitude'}>,\n",
              "        <Axes: title={'center': 'X6_Longitude'}>],\n",
              "       [<Axes: title={'center': 'Y_House_Price_of_Unit_Area'}>, <Axes: >,\n",
              "        <Axes: >]], dtype=object)"
            ]
          },
          "metadata": {},
          "execution_count": 168
        },
        {
          "output_type": "display_data",
          "data": {
            "text/plain": [
              "<Figure size 2000x1500 with 9 Axes>"
            ],
            "image/png": "[encoded data removed]"
          },
          "metadata": {}
        }
      ]
    },
    {
      "cell_type": "code",
      "source": [
        "from sklearn.model_selection import train_test_split\n",
        "train_set,test_set = train_test_split(housing,test_size = 0.2,random_state=42)\n",
        "housing"
      ],
      "metadata": {
        "id": "GYiTdU0X3Kl3",
        "colab": {
          "base_uri": "https://localhost:8080/",
          "height": 487
        },
        "outputId": "40eb8eb8-2eb4-4e3d-9a90-34b3a7a5c1d7"
      },
      "execution_count": null,
      "outputs": [
        {
          "output_type": "execute_result",
          "data": {
            "text/plain": [
              "     X1_Transaction_Date  X2_House_Age  X3_Distance_of_Nearest_MRT_Station  \\\n",
              "0               2012.917           NaN                            84.87882   \n",
              "1               2012.917          19.5                           306.59470   \n",
              "2               2013.583          13.3                           561.98450   \n",
              "3               2013.500          13.3                           561.98450   \n",
              "4               2012.833           5.0                           390.56840   \n",
              "..                   ...           ...                                 ...   \n",
              "409             2013.000          13.7                          4082.01500   \n",
              "410             2012.667           5.6                            90.45606   \n",
              "411             2013.250          18.8                           390.96960   \n",
              "412             2013.000           8.1                           104.81010   \n",
              "413             2013.500           6.5                            90.45606   \n",
              "\n",
              "     X4_Number_of_Convenience_Stores  X5_Latitude  X6_Longitude  \\\n",
              "0                                 10     24.98298     121.54024   \n",
              "1                                  9     24.98034     121.53951   \n",
              "2                                  5     24.98746     121.54391   \n",
              "3                                  5     24.98746     121.54391   \n",
              "4                                  5     24.97937     121.54245   \n",
              "..                               ...          ...           ...   \n",
              "409                                0     24.94155     121.50381   \n",
              "410                                9     24.97433     121.54310   \n",
              "411                                7     24.97923     121.53986   \n",
              "412                                5     24.96674     121.54067   \n",
              "413                                9     24.97433     121.54310   \n",
              "\n",
              "     Y_House_Price_of_Unit_Area  \n",
              "0                          37.9  \n",
              "1                          42.2  \n",
              "2                          47.3  \n",
              "3                          54.8  \n",
              "4                          43.1  \n",
              "..                          ...  \n",
              "409                        15.4  \n",
              "410                        50.0  \n",
              "411                        40.6  \n",
              "412                        52.5  \n",
              "413                        63.9  \n",
              "\n",
              "[414 rows x 7 columns]"
            ],
            "text/html": [
              "\n",
              "  <div id=\"df-46ddfeae-4b20-49dd-9d52-c99ce6dbc3fb\">\n",
              "    <div class=\"colab-df-container\">\n",
              "      <div>\n",
              "<style scoped>\n",
              "    .dataframe tbody tr th:only-of-type {\n",
              "        vertical-align: middle;\n",
              "    }\n",
              "\n",
              "    .dataframe tbody tr th {\n",
              "        vertical-align: top;\n",
              "    }\n",
              "\n",
              "    .dataframe thead th {\n",
              "        text-align: right;\n",
              "    }\n",
              "</style>\n",
              "<table border=\"1\" class=\"dataframe\">\n",
              "  <thead>\n",
              "    <tr style=\"text-align: right;\">\n",
              "      <th></th>\n",
              "      <th>X1_Transaction_Date</th>\n",
              "      <th>X2_House_Age</th>\n",
              "      <th>X3_Distance_of_Nearest_MRT_Station</th>\n",
              "      <th>X4_Number_of_Convenience_Stores</th>\n",
              "      <th>X5_Latitude</th>\n",
              "      <th>X6_Longitude</th>\n",
              "      <th>Y_House_Price_of_Unit_Area</th>\n",
              "    </tr>\n",
              "  </thead>\n",
              "  <tbody>\n",
              "    <tr>\n",
              "      <th>0</th>\n",
              "      <td>2012.917</td>\n",
              "      <td>NaN</td>\n",
              "      <td>84.87882</td>\n",
              "      <td>10</td>\n",
              "      <td>24.98298</td>\n",
              "      <td>121.54024</td>\n",
              "      <td>37.9</td>\n",
              "    </tr>\n",
              "    <tr>\n",
              "      <th>1</th>\n",
              "      <td>2012.917</td>\n",
              "      <td>19.5</td>\n",
              "      <td>306.59470</td>\n",
              "      <td>9</td>\n",
              "      <td>24.98034</td>\n",
              "      <td>121.53951</td>\n",
              "      <td>42.2</td>\n",
              "    </tr>\n",
              "    <tr>\n",
              "      <th>2</th>\n",
              "      <td>2013.583</td>\n",
              "      <td>13.3</td>\n",
              "      <td>561.98450</td>\n",
              "      <td>5</td>\n",
              "      <td>24.98746</td>\n",
              "      <td>121.54391</td>\n",
              "      <td>47.3</td>\n",
              "    </tr>\n",
              "    <tr>\n",
              "      <th>3</th>\n",
              "      <td>2013.500</td>\n",
              "      <td>13.3</td>\n",
              "      <td>561.98450</td>\n",
              "      <td>5</td>\n",
              "      <td>24.98746</td>\n",
              "      <td>121.54391</td>\n",
              "      <td>54.8</td>\n",
              "    </tr>\n",
              "    <tr>\n",
              "      <th>4</th>\n",
              "      <td>2012.833</td>\n",
              "      <td>5.0</td>\n",
              "      <td>390.56840</td>\n",
              "      <td>5</td>\n",
              "      <td>24.97937</td>\n",
              "      <td>121.54245</td>\n",
              "      <td>43.1</td>\n",
              "    </tr>\n",
              "    <tr>\n",
              "      <th>...</th>\n",
              "      <td>...</td>\n",
              "      <td>...</td>\n",
              "      <td>...</td>\n",
              "      <td>...</td>\n",
              "      <td>...</td>\n",
              "      <td>...</td>\n",
              "      <td>...</td>\n",
              "    </tr>\n",
              "    <tr>\n",
              "      <th>409</th>\n",
              "      <td>2013.000</td>\n",
              "      <td>13.7</td>\n",
              "      <td>4082.01500</td>\n",
              "      <td>0</td>\n",
              "      <td>24.94155</td>\n",
              "      <td>121.50381</td>\n",
              "      <td>15.4</td>\n",
              "    </tr>\n",
              "    <tr>\n",
              "      <th>410</th>\n",
              "      <td>2012.667</td>\n",
              "      <td>5.6</td>\n",
              "      <td>90.45606</td>\n",
              "      <td>9</td>\n",
              "      <td>24.97433</td>\n",
              "      <td>121.54310</td>\n",
              "      <td>50.0</td>\n",
              "    </tr>\n",
              "    <tr>\n",
              "      <th>411</th>\n",
              "      <td>2013.250</td>\n",
              "      <td>18.8</td>\n",
              "      <td>390.96960</td>\n",
              "      <td>7</td>\n",
              "      <td>24.97923</td>\n",
              "      <td>121.53986</td>\n",
              "      <td>40.6</td>\n",
              "    </tr>\n",
              "    <tr>\n",
              "      <th>412</th>\n",
              "      <td>2013.000</td>\n",
              "      <td>8.1</td>\n",
              "      <td>104.81010</td>\n",
              "      <td>5</td>\n",
              "      <td>24.96674</td>\n",
              "      <td>121.54067</td>\n",
              "      <td>52.5</td>\n",
              "    </tr>\n",
              "    <tr>\n",
              "      <th>413</th>\n",
              "      <td>2013.500</td>\n",
              "      <td>6.5</td>\n",
              "      <td>90.45606</td>\n",
              "      <td>9</td>\n",
              "      <td>24.97433</td>\n",
              "      <td>121.54310</td>\n",
              "      <td>63.9</td>\n",
              "    </tr>\n",
              "  </tbody>\n",
              "</table>\n",
              "<p>414 rows × 7 columns</p>\n",
              "</div>\n",
              "      <button class=\"colab-df-convert\" onclick=\"convertToInteractive('df-46ddfeae-4b20-49dd-9d52-c99ce6dbc3fb')\"\n",
              "              title=\"Convert this dataframe to an interactive table.\"\n",
              "              style=\"display:none;\">\n",
              "        \n",
              "  <svg xmlns=\"http://www.w3.org/2000/svg\" height=\"24px\"viewBox=\"0 0 24 24\"\n",
              "       width=\"24px\">\n",
              "    <path d=\"M0 0h24v24H0V0z\" fill=\"none\"/>\n",
              "    <path d=\"M18.56 5.44l.94 2.06.94-2.06 2.06-.94-2.06-.94-.94-2.06-.94 2.06-2.06.94zm-11 1L8.5 8.5l.94-2.06 2.06-.94-2.06-.94L8.5 2.5l-.94 2.06-2.06.94zm10 10l.94 2.06.94-2.06 2.06-.94-2.06-.94-.94-2.06-.94 2.06-2.06.94z\"/><path d=\"M17.41 7.96l-1.37-1.37c-.4-.4-.92-.59-1.43-.59-.52 0-1.04.2-1.43.59L10.3 9.45l-7.72 7.72c-.78.78-.78 2.05 0 2.83L4 21.41c.39.39.9.59 1.41.59.51 0 1.02-.2 1.41-.59l7.78-7.78 2.81-2.81c.8-.78.8-2.07 0-2.86zM5.41 20L4 18.59l7.72-7.72 1.47 1.35L5.41 20z\"/>\n",
              "  </svg>\n",
              "      </button>\n",
              "      \n",
              "  <style>\n",
              "    .colab-df-container {\n",
              "      display:flex;\n",
              "      flex-wrap:wrap;\n",
              "      gap: 12px;\n",
              "    }\n",
              "\n",
              "    .colab-df-convert {\n",
              "      background-color: #E8F0FE;\n",
              "      border: none;\n",
              "      border-radius: 50%;\n",
              "      cursor: pointer;\n",
              "      display: none;\n",
              "      fill: #1967D2;\n",
              "      height: 32px;\n",
              "      padding: 0 0 0 0;\n",
              "      width: 32px;\n",
              "    }\n",
              "\n",
              "    .colab-df-convert:hover {\n",
              "      background-color: #E2EBFA;\n",
              "      box-shadow: 0px 1px 2px rgba(60, 64, 67, 0.3), 0px 1px 3px 1px rgba(60, 64, 67, 0.15);\n",
              "      fill: #174EA6;\n",
              "    }\n",
              "\n",
              "    [theme=dark] .colab-df-convert {\n",
              "      background-color: #3B4455;\n",
              "      fill: #D2E3FC;\n",
              "    }\n",
              "\n",
              "    [theme=dark] .colab-df-convert:hover {\n",
              "      background-color: #434B5C;\n",
              "      box-shadow: 0px 1px 3px 1px rgba(0, 0, 0, 0.15);\n",
              "      filter: drop-shadow(0px 1px 2px rgba(0, 0, 0, 0.3));\n",
              "      fill: #FFFFFF;\n",
              "    }\n",
              "  </style>\n",
              "\n",
              "      <script>\n",
              "        const buttonEl =\n",
              "          document.querySelector('#df-46ddfeae-4b20-49dd-9d52-c99ce6dbc3fb button.colab-df-convert');\n",
              "        buttonEl.style.display =\n",
              "          google.colab.kernel.accessAllowed ? 'block' : 'none';\n",
              "\n",
              "        async function convertToInteractive(key) {\n",
              "          const element = document.querySelector('#df-46ddfeae-4b20-49dd-9d52-c99ce6dbc3fb');\n",
              "          const dataTable =\n",
              "            await google.colab.kernel.invokeFunction('convertToInteractive',\n",
              "                                                     [key], {});\n",
              "          if (!dataTable) return;\n",
              "\n",
              "          const docLinkHtml = 'Like what you see? Visit the ' +\n",
              "            '<a target=\"_blank\" href=https://colab.research.google.com/notebooks/data_table.ipynb>data table notebook</a>'\n",
              "            + ' to learn more about interactive tables.';\n",
              "          element.innerHTML = '';\n",
              "          dataTable['output_type'] = 'display_data';\n",
              "          await google.colab.output.renderOutput(dataTable, element);\n",
              "          const docLink = document.createElement('div');\n",
              "          docLink.innerHTML = docLinkHtml;\n",
              "          element.appendChild(docLink);\n",
              "        }\n",
              "      </script>\n",
              "    </div>\n",
              "  </div>\n",
              "  "
            ]
          },
          "metadata": {},
          "execution_count": 169
        }
      ]
    },
    {
      "cell_type": "code",
      "source": [
        "from sklearn.model_selection import StratifiedShuffleSplit\n",
        "split = StratifiedShuffleSplit(n_splits=1,test_size=0.2,random_state=42)\n",
        "for train_index,test_index in split.split(housing,housing['X4_Number_of_Convenience_Stores']):\n",
        "  strat_train_set=housing.loc[train_index]\n",
        "  strat_test_set=housing.loc[test_index]\n",
        "\n"
      ],
      "metadata": {
        "id": "adX772Wt_AXL"
      },
      "execution_count": null,
      "outputs": []
    },
    {
      "cell_type": "code",
      "source": [
        " strat_train_set['X4_Number_of_Convenience_Stores'].value_counts()"
      ],
      "metadata": {
        "id": "HQtytM0ZDIf-",
        "colab": {
          "base_uri": "https://localhost:8080/"
        },
        "outputId": "a18ebeea-ee9f-436b-88a3-5e45ddad2438"
      },
      "execution_count": null,
      "outputs": [
        {
          "output_type": "execute_result",
          "data": {
            "text/plain": [
              "0     53\n",
              "5     53\n",
              "3     37\n",
              "1     37\n",
              "6     30\n",
              "7     25\n",
              "4     25\n",
              "8     24\n",
              "9     20\n",
              "2     19\n",
              "10     8\n",
              "Name: X4_Number_of_Convenience_Stores, dtype: int64"
            ]
          },
          "metadata": {},
          "execution_count": 171
        }
      ]
    },
    {
      "cell_type": "code",
      "source": [
        "housing = strat_train_set.copy()"
      ],
      "metadata": {
        "id": "RG3euP7GjMUh"
      },
      "execution_count": null,
      "outputs": []
    },
    {
      "cell_type": "code",
      "source": [
        "corr_matrix = housing.corr()\n",
        "corr_matrix['Y_House_Price_of_Unit_Area'].sort_values(ascending=False)"
      ],
      "metadata": {
        "id": "poJKkq2PJHNo",
        "colab": {
          "base_uri": "https://localhost:8080/"
        },
        "outputId": "faadf999-5978-4bbf-973b-1aeacea003ef"
      },
      "execution_count": null,
      "outputs": [
        {
          "output_type": "execute_result",
          "data": {
            "text/plain": [
              "Y_House_Price_of_Unit_Area            1.000000\n",
              "X4_Number_of_Convenience_Stores       0.636209\n",
              "X5_Latitude                           0.569626\n",
              "X6_Longitude                          0.535064\n",
              "X1_Transaction_Date                   0.054334\n",
              "X2_House_Age                         -0.183988\n",
              "X3_Distance_of_Nearest_MRT_Station   -0.692165\n",
              "Name: Y_House_Price_of_Unit_Area, dtype: float64"
            ]
          },
          "metadata": {},
          "execution_count": 173
        }
      ]
    },
    {
      "cell_type": "code",
      "source": [
        "from pandas.plotting import scatter_matrix\n",
        "attributes = [\"Y_House_Price_of_Unit_Area\",\"X4_Number_of_Convenience_Stores\",\"X3_Distance_of_Nearest_MRT_Station\"]\n",
        "scatter_matrix(housing[attributes],figsize = (12,8))"
      ],
      "metadata": {
        "id": "NabSKjM9NXf4",
        "colab": {
          "base_uri": "https://localhost:8080/",
          "height": 888
        },
        "outputId": "cae9572c-6157-4ff5-b64e-407199828134"
      },
      "execution_count": null,
      "outputs": [
        {
          "output_type": "execute_result",
          "data": {
            "text/plain": [
              "array([[<Axes: xlabel='Y_House_Price_of_Unit_Area', ylabel='Y_House_Price_of_Unit_Area'>,\n",
              "        <Axes: xlabel='X4_Number_of_Convenience_Stores', ylabel='Y_House_Price_of_Unit_Area'>,\n",
              "        <Axes: xlabel='X3_Distance_of_Nearest_MRT_Station', ylabel='Y_House_Price_of_Unit_Area'>],\n",
              "       [<Axes: xlabel='Y_House_Price_of_Unit_Area', ylabel='X4_Number_of_Convenience_Stores'>,\n",
              "        <Axes: xlabel='X4_Number_of_Convenience_Stores', ylabel='X4_Number_of_Convenience_Stores'>,\n",
              "        <Axes: xlabel='X3_Distance_of_Nearest_MRT_Station', ylabel='X4_Number_of_Convenience_Stores'>],\n",
              "       [<Axes: xlabel='Y_House_Price_of_Unit_Area', ylabel='X3_Distance_of_Nearest_MRT_Station'>,\n",
              "        <Axes: xlabel='X4_Number_of_Convenience_Stores', ylabel='X3_Distance_of_Nearest_MRT_Station'>,\n",
              "        <Axes: xlabel='X3_Distance_of_Nearest_MRT_Station', ylabel='X3_Distance_of_Nearest_MRT_Station'>]],\n",
              "      dtype=object)"
            ]
          },
          "metadata": {},
          "execution_count": 174
        },
        {
          "output_type": "display_data",
          "data": {
            "text/plain": [
              "<Figure size 1200x800 with 9 Axes>"
            ],
            "image/png": "[encoded data removed]"
          },
          "metadata": {}
        }
      ]
    },
    {
      "cell_type": "code",
      "source": [
        "housing.plot(kind=\"scatter\",x=\"X3_Distance_of_Nearest_MRT_Station\",y =\"Y_House_Price_of_Unit_Area\" )"
      ],
      "metadata": {
        "id": "Y68dCk1_OnrU",
        "colab": {
          "base_uri": "https://localhost:8080/",
          "height": 467
        },
        "outputId": "113d8f3e-3c81-43d4-c703-cecea369a46b"
      },
      "execution_count": null,
      "outputs": [
        {
          "output_type": "execute_result",
          "data": {
            "text/plain": [
              "<Axes: xlabel='X3_Distance_of_Nearest_MRT_Station', ylabel='Y_House_Price_of_Unit_Area'>"
            ]
          },
          "metadata": {},
          "execution_count": 175
        },
        {
          "output_type": "display_data",
          "data": {
            "text/plain": [
              "<Figure size 640x480 with 1 Axes>"
            ],
            "image/png": "[encoded data removed]"
          },
          "metadata": {}
        }
      ]
    },
    {
      "cell_type": "code",
      "source": [
        "housing['location'] = housing['X5_Latitude']/housing['X6_Longitude']\n",
        "housing.head()\n"
      ],
      "metadata": {
        "id": "1NOjdrf0Rn72",
        "colab": {
          "base_uri": "https://localhost:8080/",
          "height": 270
        },
        "outputId": "f9e3f817-4359-4e97-960d-3f79d829e47f"
      },
      "execution_count": null,
      "outputs": [
        {
          "output_type": "execute_result",
          "data": {
            "text/plain": [
              "     X1_Transaction_Date  X2_House_Age  X3_Distance_of_Nearest_MRT_Station  \\\n",
              "369             2012.667          20.2                          2185.12800   \n",
              "360             2012.667          32.9                            87.30222   \n",
              "180             2012.667          26.9                          4449.27000   \n",
              "188             2012.917          34.8                           190.03920   \n",
              "404             2013.333          16.4                           289.32480   \n",
              "\n",
              "     X4_Number_of_Convenience_Stores  X5_Latitude  X6_Longitude  \\\n",
              "369                                3     24.96322     121.51237   \n",
              "360                               10     24.98300     121.54022   \n",
              "180                                0     24.94898     121.49621   \n",
              "188                                8     24.97707     121.54312   \n",
              "404                                5     24.98203     121.54348   \n",
              "\n",
              "     Y_House_Price_of_Unit_Area  location  \n",
              "369                        22.8  0.205438  \n",
              "360                        47.1  0.205553  \n",
              "180                        15.5  0.205348  \n",
              "188                        44.3  0.205500  \n",
              "404                        41.2  0.205540  "
            ],
            "text/html": [
              "\n",
              "  <div id=\"df-28cc6531-93ec-486c-9d78-fdbb53f1667a\">\n",
              "    <div class=\"colab-df-container\">\n",
              "      <div>\n",
              "<style scoped>\n",
              "    .dataframe tbody tr th:only-of-type {\n",
              "        vertical-align: middle;\n",
              "    }\n",
              "\n",
              "    .dataframe tbody tr th {\n",
              "        vertical-align: top;\n",
              "    }\n",
              "\n",
              "    .dataframe thead th {\n",
              "        text-align: right;\n",
              "    }\n",
              "</style>\n",
              "<table border=\"1\" class=\"dataframe\">\n",
              "  <thead>\n",
              "    <tr style=\"text-align: right;\">\n",
              "      <th></th>\n",
              "      <th>X1_Transaction_Date</th>\n",
              "      <th>X2_House_Age</th>\n",
              "      <th>X3_Distance_of_Nearest_MRT_Station</th>\n",
              "      <th>X4_Number_of_Convenience_Stores</th>\n",
              "      <th>X5_Latitude</th>\n",
              "      <th>X6_Longitude</th>\n",
              "      <th>Y_House_Price_of_Unit_Area</th>\n",
              "      <th>location</th>\n",
              "    </tr>\n",
              "  </thead>\n",
              "  <tbody>\n",
              "    <tr>\n",
              "      <th>369</th>\n",
              "      <td>2012.667</td>\n",
              "      <td>20.2</td>\n",
              "      <td>2185.12800</td>\n",
              "      <td>3</td>\n",
              "      <td>24.96322</td>\n",
              "      <td>121.51237</td>\n",
              "      <td>22.8</td>\n",
              "      <td>0.205438</td>\n",
              "    </tr>\n",
              "    <tr>\n",
              "      <th>360</th>\n",
              "      <td>2012.667</td>\n",
              "      <td>32.9</td>\n",
              "      <td>87.30222</td>\n",
              "      <td>10</td>\n",
              "      <td>24.98300</td>\n",
              "      <td>121.54022</td>\n",
              "      <td>47.1</td>\n",
              "      <td>0.205553</td>\n",
              "    </tr>\n",
              "    <tr>\n",
              "      <th>180</th>\n",
              "      <td>2012.667</td>\n",
              "      <td>26.9</td>\n",
              "      <td>4449.27000</td>\n",
              "      <td>0</td>\n",
              "      <td>24.94898</td>\n",
              "      <td>121.49621</td>\n",
              "      <td>15.5</td>\n",
              "      <td>0.205348</td>\n",
              "    </tr>\n",
              "    <tr>\n",
              "      <th>188</th>\n",
              "      <td>2012.917</td>\n",
              "      <td>34.8</td>\n",
              "      <td>190.03920</td>\n",
              "      <td>8</td>\n",
              "      <td>24.97707</td>\n",
              "      <td>121.54312</td>\n",
              "      <td>44.3</td>\n",
              "      <td>0.205500</td>\n",
              "    </tr>\n",
              "    <tr>\n",
              "      <th>404</th>\n",
              "      <td>2013.333</td>\n",
              "      <td>16.4</td>\n",
              "      <td>289.32480</td>\n",
              "      <td>5</td>\n",
              "      <td>24.98203</td>\n",
              "      <td>121.54348</td>\n",
              "      <td>41.2</td>\n",
              "      <td>0.205540</td>\n",
              "    </tr>\n",
              "  </tbody>\n",
              "</table>\n",
              "</div>\n",
              "      <button class=\"colab-df-convert\" onclick=\"convertToInteractive('df-28cc6531-93ec-486c-9d78-fdbb53f1667a')\"\n",
              "              title=\"Convert this dataframe to an interactive table.\"\n",
              "              style=\"display:none;\">\n",
              "        \n",
              "  <svg xmlns=\"http://www.w3.org/2000/svg\" height=\"24px\"viewBox=\"0 0 24 24\"\n",
              "       width=\"24px\">\n",
              "    <path d=\"M0 0h24v24H0V0z\" fill=\"none\"/>\n",
              "    <path d=\"M18.56 5.44l.94 2.06.94-2.06 2.06-.94-2.06-.94-.94-2.06-.94 2.06-2.06.94zm-11 1L8.5 8.5l.94-2.06 2.06-.94-2.06-.94L8.5 2.5l-.94 2.06-2.06.94zm10 10l.94 2.06.94-2.06 2.06-.94-2.06-.94-.94-2.06-.94 2.06-2.06.94z\"/><path d=\"M17.41 7.96l-1.37-1.37c-.4-.4-.92-.59-1.43-.59-.52 0-1.04.2-1.43.59L10.3 9.45l-7.72 7.72c-.78.78-.78 2.05 0 2.83L4 21.41c.39.39.9.59 1.41.59.51 0 1.02-.2 1.41-.59l7.78-7.78 2.81-2.81c.8-.78.8-2.07 0-2.86zM5.41 20L4 18.59l7.72-7.72 1.47 1.35L5.41 20z\"/>\n",
              "  </svg>\n",
              "      </button>\n",
              "      \n",
              "  <style>\n",
              "    .colab-df-container {\n",
              "      display:flex;\n",
              "      flex-wrap:wrap;\n",
              "      gap: 12px;\n",
              "    }\n",
              "\n",
              "    .colab-df-convert {\n",
              "      background-color: #E8F0FE;\n",
              "      border: none;\n",
              "      border-radius: 50%;\n",
              "      cursor: pointer;\n",
              "      display: none;\n",
              "      fill: #1967D2;\n",
              "      height: 32px;\n",
              "      padding: 0 0 0 0;\n",
              "      width: 32px;\n",
              "    }\n",
              "\n",
              "    .colab-df-convert:hover {\n",
              "      background-color: #E2EBFA;\n",
              "      box-shadow: 0px 1px 2px rgba(60, 64, 67, 0.3), 0px 1px 3px 1px rgba(60, 64, 67, 0.15);\n",
              "      fill: #174EA6;\n",
              "    }\n",
              "\n",
              "    [theme=dark] .colab-df-convert {\n",
              "      background-color: #3B4455;\n",
              "      fill: #D2E3FC;\n",
              "    }\n",
              "\n",
              "    [theme=dark] .colab-df-convert:hover {\n",
              "      background-color: #434B5C;\n",
              "      box-shadow: 0px 1px 3px 1px rgba(0, 0, 0, 0.15);\n",
              "      filter: drop-shadow(0px 1px 2px rgba(0, 0, 0, 0.3));\n",
              "      fill: #FFFFFF;\n",
              "    }\n",
              "  </style>\n",
              "\n",
              "      <script>\n",
              "        const buttonEl =\n",
              "          document.querySelector('#df-28cc6531-93ec-486c-9d78-fdbb53f1667a button.colab-df-convert');\n",
              "        buttonEl.style.display =\n",
              "          google.colab.kernel.accessAllowed ? 'block' : 'none';\n",
              "\n",
              "        async function convertToInteractive(key) {\n",
              "          const element = document.querySelector('#df-28cc6531-93ec-486c-9d78-fdbb53f1667a');\n",
              "          const dataTable =\n",
              "            await google.colab.kernel.invokeFunction('convertToInteractive',\n",
              "                                                     [key], {});\n",
              "          if (!dataTable) return;\n",
              "\n",
              "          const docLinkHtml = 'Like what you see? Visit the ' +\n",
              "            '<a target=\"_blank\" href=https://colab.research.google.com/notebooks/data_table.ipynb>data table notebook</a>'\n",
              "            + ' to learn more about interactive tables.';\n",
              "          element.innerHTML = '';\n",
              "          dataTable['output_type'] = 'display_data';\n",
              "          await google.colab.output.renderOutput(dataTable, element);\n",
              "          const docLink = document.createElement('div');\n",
              "          docLink.innerHTML = docLinkHtml;\n",
              "          element.appendChild(docLink);\n",
              "        }\n",
              "      </script>\n",
              "    </div>\n",
              "  </div>\n",
              "  "
            ]
          },
          "metadata": {},
          "execution_count": 176
        }
      ]
    },
    {
      "cell_type": "code",
      "source": [
        "corr_matrix = housing.corr()\n",
        "corr_matrix['Y_House_Price_of_Unit_Area'].sort_values(ascending=False)"
      ],
      "metadata": {
        "id": "miqROxjfTX8O",
        "colab": {
          "base_uri": "https://localhost:8080/"
        },
        "outputId": "19877d48-dce3-48eb-d22c-aca4600eb9d1"
      },
      "execution_count": null,
      "outputs": [
        {
          "output_type": "execute_result",
          "data": {
            "text/plain": [
              "Y_House_Price_of_Unit_Area            1.000000\n",
              "X4_Number_of_Convenience_Stores       0.636209\n",
              "X5_Latitude                           0.569626\n",
              "X6_Longitude                          0.535064\n",
              "location                              0.464169\n",
              "X1_Transaction_Date                   0.054334\n",
              "X2_House_Age                         -0.183988\n",
              "X3_Distance_of_Nearest_MRT_Station   -0.692165\n",
              "Name: Y_House_Price_of_Unit_Area, dtype: float64"
            ]
          },
          "metadata": {},
          "execution_count": 177
        }
      ]
    },
    {
      "cell_type": "code",
      "source": [
        "housing.plot(kind=\"scatter\",x=\"location\",y =\"Y_House_Price_of_Unit_Area\" )"
      ],
      "metadata": {
        "id": "BLLRaYwZUIff",
        "colab": {
          "base_uri": "https://localhost:8080/",
          "height": 466
        },
        "outputId": "43a3ef48-5af0-4803-adcc-2388d11eb4bf"
      },
      "execution_count": null,
      "outputs": [
        {
          "output_type": "execute_result",
          "data": {
            "text/plain": [
              "<Axes: xlabel='location', ylabel='Y_House_Price_of_Unit_Area'>"
            ]
          },
          "metadata": {},
          "execution_count": 178
        },
        {
          "output_type": "display_data",
          "data": {
            "text/plain": [
              "<Figure size 640x480 with 1 Axes>"
            ],
            "image/png": "[encoded data removed]"
          },
          "metadata": {}
        }
      ]
    },
    {
      "cell_type": "code",
      "source": [
        "housing = strat_train_set.drop(\"Y_House_Price_of_Unit_Area\",axis=1)\n",
        "housing_label= strat_train_set[\"Y_House_Price_of_Unit_Area\"].copy()\n",
        "housing"
      ],
      "metadata": {
        "colab": {
          "base_uri": "https://localhost:8080/",
          "height": 423
        },
        "id": "9ZfvbiThNoVg",
        "outputId": "ffb5e0df-adfb-46fa-bdbb-de18332f26ac"
      },
      "execution_count": null,
      "outputs": [
        {
          "output_type": "execute_result",
          "data": {
            "text/plain": [
              "     X1_Transaction_Date  X2_House_Age  X3_Distance_of_Nearest_MRT_Station  \\\n",
              "369             2012.667          20.2                          2185.12800   \n",
              "360             2012.667          32.9                            87.30222   \n",
              "180             2012.667          26.9                          4449.27000   \n",
              "188             2012.917          34.8                           190.03920   \n",
              "404             2013.333          16.4                           289.32480   \n",
              "..                   ...           ...                                 ...   \n",
              "10              2013.083          34.8                           405.21340   \n",
              "381             2013.417           8.0                           132.54690   \n",
              "159             2012.667          15.5                           815.93140   \n",
              "141             2013.333           5.1                          1559.82700   \n",
              "292             2013.083          17.5                           395.67470   \n",
              "\n",
              "     X4_Number_of_Convenience_Stores  X5_Latitude  X6_Longitude  \n",
              "369                                3     24.96322     121.51237  \n",
              "360                               10     24.98300     121.54022  \n",
              "180                                0     24.94898     121.49621  \n",
              "188                                8     24.97707     121.54312  \n",
              "404                                5     24.98203     121.54348  \n",
              "..                               ...          ...           ...  \n",
              "10                                 1     24.97349     121.53372  \n",
              "381                                9     24.98298     121.53981  \n",
              "159                                4     24.97886     121.53464  \n",
              "141                                3     24.97213     121.51627  \n",
              "292                                5     24.95674     121.53400  \n",
              "\n",
              "[331 rows x 6 columns]"
            ],
            "text/html": [
              "\n",
              "  <div id=\"df-fda7425c-3170-43a1-a6ca-d32641a504c6\">\n",
              "    <div class=\"colab-df-container\">\n",
              "      <div>\n",
              "<style scoped>\n",
              "    .dataframe tbody tr th:only-of-type {\n",
              "        vertical-align: middle;\n",
              "    }\n",
              "\n",
              "    .dataframe tbody tr th {\n",
              "        vertical-align: top;\n",
              "    }\n",
              "\n",
              "    .dataframe thead th {\n",
              "        text-align: right;\n",
              "    }\n",
              "</style>\n",
              "<table border=\"1\" class=\"dataframe\">\n",
              "  <thead>\n",
              "    <tr style=\"text-align: right;\">\n",
              "      <th></th>\n",
              "      <th>X1_Transaction_Date</th>\n",
              "      <th>X2_House_Age</th>\n",
              "      <th>X3_Distance_of_Nearest_MRT_Station</th>\n",
              "      <th>X4_Number_of_Convenience_Stores</th>\n",
              "      <th>X5_Latitude</th>\n",
              "      <th>X6_Longitude</th>\n",
              "    </tr>\n",
              "  </thead>\n",
              "  <tbody>\n",
              "    <tr>\n",
              "      <th>369</th>\n",
              "      <td>2012.667</td>\n",
              "      <td>20.2</td>\n",
              "      <td>2185.12800</td>\n",
              "      <td>3</td>\n",
              "      <td>24.96322</td>\n",
              "      <td>121.51237</td>\n",
              "    </tr>\n",
              "    <tr>\n",
              "      <th>360</th>\n",
              "      <td>2012.667</td>\n",
              "      <td>32.9</td>\n",
              "      <td>87.30222</td>\n",
              "      <td>10</td>\n",
              "      <td>24.98300</td>\n",
              "      <td>121.54022</td>\n",
              "    </tr>\n",
              "    <tr>\n",
              "      <th>180</th>\n",
              "      <td>2012.667</td>\n",
              "      <td>26.9</td>\n",
              "      <td>4449.27000</td>\n",
              "      <td>0</td>\n",
              "      <td>24.94898</td>\n",
              "      <td>121.49621</td>\n",
              "    </tr>\n",
              "    <tr>\n",
              "      <th>188</th>\n",
              "      <td>2012.917</td>\n",
              "      <td>34.8</td>\n",
              "      <td>190.03920</td>\n",
              "      <td>8</td>\n",
              "      <td>24.97707</td>\n",
              "      <td>121.54312</td>\n",
              "    </tr>\n",
              "    <tr>\n",
              "      <th>404</th>\n",
              "      <td>2013.333</td>\n",
              "      <td>16.4</td>\n",
              "      <td>289.32480</td>\n",
              "      <td>5</td>\n",
              "      <td>24.98203</td>\n",
              "      <td>121.54348</td>\n",
              "    </tr>\n",
              "    <tr>\n",
              "      <th>...</th>\n",
              "      <td>...</td>\n",
              "      <td>...</td>\n",
              "      <td>...</td>\n",
              "      <td>...</td>\n",
              "      <td>...</td>\n",
              "      <td>...</td>\n",
              "    </tr>\n",
              "    <tr>\n",
              "      <th>10</th>\n",
              "      <td>2013.083</td>\n",
              "      <td>34.8</td>\n",
              "      <td>405.21340</td>\n",
              "      <td>1</td>\n",
              "      <td>24.97349</td>\n",
              "      <td>121.53372</td>\n",
              "    </tr>\n",
              "    <tr>\n",
              "      <th>381</th>\n",
              "      <td>2013.417</td>\n",
              "      <td>8.0</td>\n",
              "      <td>132.54690</td>\n",
              "      <td>9</td>\n",
              "      <td>24.98298</td>\n",
              "      <td>121.53981</td>\n",
              "    </tr>\n",
              "    <tr>\n",
              "      <th>159</th>\n",
              "      <td>2012.667</td>\n",
              "      <td>15.5</td>\n",
              "      <td>815.93140</td>\n",
              "      <td>4</td>\n",
              "      <td>24.97886</td>\n",
              "      <td>121.53464</td>\n",
              "    </tr>\n",
              "    <tr>\n",
              "      <th>141</th>\n",
              "      <td>2013.333</td>\n",
              "      <td>5.1</td>\n",
              "      <td>1559.82700</td>\n",
              "      <td>3</td>\n",
              "      <td>24.97213</td>\n",
              "      <td>121.51627</td>\n",
              "    </tr>\n",
              "    <tr>\n",
              "      <th>292</th>\n",
              "      <td>2013.083</td>\n",
              "      <td>17.5</td>\n",
              "      <td>395.67470</td>\n",
              "      <td>5</td>\n",
              "      <td>24.95674</td>\n",
              "      <td>121.53400</td>\n",
              "    </tr>\n",
              "  </tbody>\n",
              "</table>\n",
              "<p>331 rows × 6 columns</p>\n",
              "</div>\n",
              "      <button class=\"colab-df-convert\" onclick=\"convertToInteractive('df-fda7425c-3170-43a1-a6ca-d32641a504c6')\"\n",
              "              title=\"Convert this dataframe to an interactive table.\"\n",
              "              style=\"display:none;\">\n",
              "        \n",
              "  <svg xmlns=\"http://www.w3.org/2000/svg\" height=\"24px\"viewBox=\"0 0 24 24\"\n",
              "       width=\"24px\">\n",
              "    <path d=\"M0 0h24v24H0V0z\" fill=\"none\"/>\n",
              "    <path d=\"M18.56 5.44l.94 2.06.94-2.06 2.06-.94-2.06-.94-.94-2.06-.94 2.06-2.06.94zm-11 1L8.5 8.5l.94-2.06 2.06-.94-2.06-.94L8.5 2.5l-.94 2.06-2.06.94zm10 10l.94 2.06.94-2.06 2.06-.94-2.06-.94-.94-2.06-.94 2.06-2.06.94z\"/><path d=\"M17.41 7.96l-1.37-1.37c-.4-.4-.92-.59-1.43-.59-.52 0-1.04.2-1.43.59L10.3 9.45l-7.72 7.72c-.78.78-.78 2.05 0 2.83L4 21.41c.39.39.9.59 1.41.59.51 0 1.02-.2 1.41-.59l7.78-7.78 2.81-2.81c.8-.78.8-2.07 0-2.86zM5.41 20L4 18.59l7.72-7.72 1.47 1.35L5.41 20z\"/>\n",
              "  </svg>\n",
              "      </button>\n",
              "      \n",
              "  <style>\n",
              "    .colab-df-container {\n",
              "      display:flex;\n",
              "      flex-wrap:wrap;\n",
              "      gap: 12px;\n",
              "    }\n",
              "\n",
              "    .colab-df-convert {\n",
              "      background-color: #E8F0FE;\n",
              "      border: none;\n",
              "      border-radius: 50%;\n",
              "      cursor: pointer;\n",
              "      display: none;\n",
              "      fill: #1967D2;\n",
              "      height: 32px;\n",
              "      padding: 0 0 0 0;\n",
              "      width: 32px;\n",
              "    }\n",
              "\n",
              "    .colab-df-convert:hover {\n",
              "      background-color: #E2EBFA;\n",
              "      box-shadow: 0px 1px 2px rgba(60, 64, 67, 0.3), 0px 1px 3px 1px rgba(60, 64, 67, 0.15);\n",
              "      fill: #174EA6;\n",
              "    }\n",
              "\n",
              "    [theme=dark] .colab-df-convert {\n",
              "      background-color: #3B4455;\n",
              "      fill: #D2E3FC;\n",
              "    }\n",
              "\n",
              "    [theme=dark] .colab-df-convert:hover {\n",
              "      background-color: #434B5C;\n",
              "      box-shadow: 0px 1px 3px 1px rgba(0, 0, 0, 0.15);\n",
              "      filter: drop-shadow(0px 1px 2px rgba(0, 0, 0, 0.3));\n",
              "      fill: #FFFFFF;\n",
              "    }\n",
              "  </style>\n",
              "\n",
              "      <script>\n",
              "        const buttonEl =\n",
              "          document.querySelector('#df-fda7425c-3170-43a1-a6ca-d32641a504c6 button.colab-df-convert');\n",
              "        buttonEl.style.display =\n",
              "          google.colab.kernel.accessAllowed ? 'block' : 'none';\n",
              "\n",
              "        async function convertToInteractive(key) {\n",
              "          const element = document.querySelector('#df-fda7425c-3170-43a1-a6ca-d32641a504c6');\n",
              "          const dataTable =\n",
              "            await google.colab.kernel.invokeFunction('convertToInteractive',\n",
              "                                                     [key], {});\n",
              "          if (!dataTable) return;\n",
              "\n",
              "          const docLinkHtml = 'Like what you see? Visit the ' +\n",
              "            '<a target=\"_blank\" href=https://colab.research.google.com/notebooks/data_table.ipynb>data table notebook</a>'\n",
              "            + ' to learn more about interactive tables.';\n",
              "          element.innerHTML = '';\n",
              "          dataTable['output_type'] = 'display_data';\n",
              "          await google.colab.output.renderOutput(dataTable, element);\n",
              "          const docLink = document.createElement('div');\n",
              "          docLink.innerHTML = docLinkHtml;\n",
              "          element.appendChild(docLink);\n",
              "        }\n",
              "      </script>\n",
              "    </div>\n",
              "  </div>\n",
              "  "
            ]
          },
          "metadata": {},
          "execution_count": 179
        }
      ]
    },
    {
      "cell_type": "code",
      "source": [
        "median = housing['X2_House_Age'].median()\n",
        "housing['X2_House_Age'].fillna(median)"
      ],
      "metadata": {
        "id": "T0u-Ua5uURwM",
        "colab": {
          "base_uri": "https://localhost:8080/"
        },
        "outputId": "00201664-39f5-45cd-c743-2accc75657ab"
      },
      "execution_count": null,
      "outputs": [
        {
          "output_type": "execute_result",
          "data": {
            "text/plain": [
              "369    20.2\n",
              "360    32.9\n",
              "180    26.9\n",
              "188    34.8\n",
              "404    16.4\n",
              "       ... \n",
              "10     34.8\n",
              "381     8.0\n",
              "159    15.5\n",
              "141     5.1\n",
              "292    17.5\n",
              "Name: X2_House_Age, Length: 331, dtype: float64"
            ]
          },
          "metadata": {},
          "execution_count": 180
        }
      ]
    },
    {
      "cell_type": "code",
      "source": [
        "from sklearn.impute import SimpleImputer\n",
        "imputer = SimpleImputer(strategy = 'median')\n",
        "imputer.fit(housing)\n",
        "imputer.statistics_.shape"
      ],
      "metadata": {
        "colab": {
          "base_uri": "https://localhost:8080/"
        },
        "id": "1Cygz9FlajFH",
        "outputId": "427cdc2b-b5c6-4ecf-cbe8-32c80567ac37"
      },
      "execution_count": null,
      "outputs": [
        {
          "output_type": "execute_result",
          "data": {
            "text/plain": [
              "(6,)"
            ]
          },
          "metadata": {},
          "execution_count": 181
        }
      ]
    },
    {
      "cell_type": "code",
      "source": [
        "X = imputer.transform(housing)\n",
        "housing_tr = pd.DataFrame(X,columns = housing.columns)\n",
        "housing_tr.head()"
      ],
      "metadata": {
        "id": "RNLjOySxcgrO",
        "colab": {
          "base_uri": "https://localhost:8080/",
          "height": 206
        },
        "outputId": "3f64cf79-281d-45fc-bdda-e0e597a3a8e5"
      },
      "execution_count": null,
      "outputs": [
        {
          "output_type": "execute_result",
          "data": {
            "text/plain": [
              "   X1_Transaction_Date  X2_House_Age  X3_Distance_of_Nearest_MRT_Station  \\\n",
              "0             2012.667          20.2                          2185.12800   \n",
              "1             2012.667          32.9                            87.30222   \n",
              "2             2012.667          26.9                          4449.27000   \n",
              "3             2012.917          34.8                           190.03920   \n",
              "4             2013.333          16.4                           289.32480   \n",
              "\n",
              "   X4_Number_of_Convenience_Stores  X5_Latitude  X6_Longitude  \n",
              "0                              3.0     24.96322     121.51237  \n",
              "1                             10.0     24.98300     121.54022  \n",
              "2                              0.0     24.94898     121.49621  \n",
              "3                              8.0     24.97707     121.54312  \n",
              "4                              5.0     24.98203     121.54348  "
            ],
            "text/html": [
              "\n",
              "  <div id=\"df-dbce55d9-86a8-4c6f-8234-3b2adff906c8\">\n",
              "    <div class=\"colab-df-container\">\n",
              "      <div>\n",
              "<style scoped>\n",
              "    .dataframe tbody tr th:only-of-type {\n",
              "        vertical-align: middle;\n",
              "    }\n",
              "\n",
              "    .dataframe tbody tr th {\n",
              "        vertical-align: top;\n",
              "    }\n",
              "\n",
              "    .dataframe thead th {\n",
              "        text-align: right;\n",
              "    }\n",
              "</style>\n",
              "<table border=\"1\" class=\"dataframe\">\n",
              "  <thead>\n",
              "    <tr style=\"text-align: right;\">\n",
              "      <th></th>\n",
              "      <th>X1_Transaction_Date</th>\n",
              "      <th>X2_House_Age</th>\n",
              "      <th>X3_Distance_of_Nearest_MRT_Station</th>\n",
              "      <th>X4_Number_of_Convenience_Stores</th>\n",
              "      <th>X5_Latitude</th>\n",
              "      <th>X6_Longitude</th>\n",
              "    </tr>\n",
              "  </thead>\n",
              "  <tbody>\n",
              "    <tr>\n",
              "      <th>0</th>\n",
              "      <td>2012.667</td>\n",
              "      <td>20.2</td>\n",
              "      <td>2185.12800</td>\n",
              "      <td>3.0</td>\n",
              "      <td>24.96322</td>\n",
              "      <td>121.51237</td>\n",
              "    </tr>\n",
              "    <tr>\n",
              "      <th>1</th>\n",
              "      <td>2012.667</td>\n",
              "      <td>32.9</td>\n",
              "      <td>87.30222</td>\n",
              "      <td>10.0</td>\n",
              "      <td>24.98300</td>\n",
              "      <td>121.54022</td>\n",
              "    </tr>\n",
              "    <tr>\n",
              "      <th>2</th>\n",
              "      <td>2012.667</td>\n",
              "      <td>26.9</td>\n",
              "      <td>4449.27000</td>\n",
              "      <td>0.0</td>\n",
              "      <td>24.94898</td>\n",
              "      <td>121.49621</td>\n",
              "    </tr>\n",
              "    <tr>\n",
              "      <th>3</th>\n",
              "      <td>2012.917</td>\n",
              "      <td>34.8</td>\n",
              "      <td>190.03920</td>\n",
              "      <td>8.0</td>\n",
              "      <td>24.97707</td>\n",
              "      <td>121.54312</td>\n",
              "    </tr>\n",
              "    <tr>\n",
              "      <th>4</th>\n",
              "      <td>2013.333</td>\n",
              "      <td>16.4</td>\n",
              "      <td>289.32480</td>\n",
              "      <td>5.0</td>\n",
              "      <td>24.98203</td>\n",
              "      <td>121.54348</td>\n",
              "    </tr>\n",
              "  </tbody>\n",
              "</table>\n",
              "</div>\n",
              "      <button class=\"colab-df-convert\" onclick=\"convertToInteractive('df-dbce55d9-86a8-4c6f-8234-3b2adff906c8')\"\n",
              "              title=\"Convert this dataframe to an interactive table.\"\n",
              "              style=\"display:none;\">\n",
              "        \n",
              "  <svg xmlns=\"http://www.w3.org/2000/svg\" height=\"24px\"viewBox=\"0 0 24 24\"\n",
              "       width=\"24px\">\n",
              "    <path d=\"M0 0h24v24H0V0z\" fill=\"none\"/>\n",
              "    <path d=\"M18.56 5.44l.94 2.06.94-2.06 2.06-.94-2.06-.94-.94-2.06-.94 2.06-2.06.94zm-11 1L8.5 8.5l.94-2.06 2.06-.94-2.06-.94L8.5 2.5l-.94 2.06-2.06.94zm10 10l.94 2.06.94-2.06 2.06-.94-2.06-.94-.94-2.06-.94 2.06-2.06.94z\"/><path d=\"M17.41 7.96l-1.37-1.37c-.4-.4-.92-.59-1.43-.59-.52 0-1.04.2-1.43.59L10.3 9.45l-7.72 7.72c-.78.78-.78 2.05 0 2.83L4 21.41c.39.39.9.59 1.41.59.51 0 1.02-.2 1.41-.59l7.78-7.78 2.81-2.81c.8-.78.8-2.07 0-2.86zM5.41 20L4 18.59l7.72-7.72 1.47 1.35L5.41 20z\"/>\n",
              "  </svg>\n",
              "      </button>\n",
              "      \n",
              "  <style>\n",
              "    .colab-df-container {\n",
              "      display:flex;\n",
              "      flex-wrap:wrap;\n",
              "      gap: 12px;\n",
              "    }\n",
              "\n",
              "    .colab-df-convert {\n",
              "      background-color: #E8F0FE;\n",
              "      border: none;\n",
              "      border-radius: 50%;\n",
              "      cursor: pointer;\n",
              "      display: none;\n",
              "      fill: #1967D2;\n",
              "      height: 32px;\n",
              "      padding: 0 0 0 0;\n",
              "      width: 32px;\n",
              "    }\n",
              "\n",
              "    .colab-df-convert:hover {\n",
              "      background-color: #E2EBFA;\n",
              "      box-shadow: 0px 1px 2px rgba(60, 64, 67, 0.3), 0px 1px 3px 1px rgba(60, 64, 67, 0.15);\n",
              "      fill: #174EA6;\n",
              "    }\n",
              "\n",
              "    [theme=dark] .colab-df-convert {\n",
              "      background-color: #3B4455;\n",
              "      fill: #D2E3FC;\n",
              "    }\n",
              "\n",
              "    [theme=dark] .colab-df-convert:hover {\n",
              "      background-color: #434B5C;\n",
              "      box-shadow: 0px 1px 3px 1px rgba(0, 0, 0, 0.15);\n",
              "      filter: drop-shadow(0px 1px 2px rgba(0, 0, 0, 0.3));\n",
              "      fill: #FFFFFF;\n",
              "    }\n",
              "  </style>\n",
              "\n",
              "      <script>\n",
              "        const buttonEl =\n",
              "          document.querySelector('#df-dbce55d9-86a8-4c6f-8234-3b2adff906c8 button.colab-df-convert');\n",
              "        buttonEl.style.display =\n",
              "          google.colab.kernel.accessAllowed ? 'block' : 'none';\n",
              "\n",
              "        async function convertToInteractive(key) {\n",
              "          const element = document.querySelector('#df-dbce55d9-86a8-4c6f-8234-3b2adff906c8');\n",
              "          const dataTable =\n",
              "            await google.colab.kernel.invokeFunction('convertToInteractive',\n",
              "                                                     [key], {});\n",
              "          if (!dataTable) return;\n",
              "\n",
              "          const docLinkHtml = 'Like what you see? Visit the ' +\n",
              "            '<a target=\"_blank\" href=https://colab.research.google.com/notebooks/data_table.ipynb>data table notebook</a>'\n",
              "            + ' to learn more about interactive tables.';\n",
              "          element.innerHTML = '';\n",
              "          dataTable['output_type'] = 'display_data';\n",
              "          await google.colab.output.renderOutput(dataTable, element);\n",
              "          const docLink = document.createElement('div');\n",
              "          docLink.innerHTML = docLinkHtml;\n",
              "          element.appendChild(docLink);\n",
              "        }\n",
              "      </script>\n",
              "    </div>\n",
              "  </div>\n",
              "  "
            ]
          },
          "metadata": {},
          "execution_count": 182
        }
      ]
    },
    {
      "cell_type": "code",
      "source": [
        " from sklearn.pipeline import Pipeline\n",
        " from sklearn.preprocessing import StandardScaler\n",
        " from sklearn.preprocessing import MinMaxScaler\n",
        "\n",
        " my_pipeline = Pipeline([('imputer',SimpleImputer(strategy=\"median\")),('std_scaler',StandardScaler()),('scaler', MinMaxScaler())])\n"
      ],
      "metadata": {
        "id": "65QEKz6KkdFX"
      },
      "execution_count": null,
      "outputs": []
    },
    {
      "cell_type": "code",
      "source": [
        "housing_num_tr = my_pipeline.fit_transform(housing)\n",
        "housing_num_tr"
      ],
      "metadata": {
        "colab": {
          "base_uri": "https://localhost:8080/"
        },
        "id": "GdMOPWthLUOh",
        "outputId": "5f006cc2-925f-45cc-92c2-2924e76602e0"
      },
      "execution_count": null,
      "outputs": [
        {
          "output_type": "execute_result",
          "data": {
            "text/plain": [
              "array([[0.        , 0.46118721, 0.33920901, 0.3       , 0.36548913,\n",
              "        0.40840742],\n",
              "       [0.        , 0.75114155, 0.01002987, 1.        , 0.60980731,\n",
              "        0.71408188],\n",
              "       [0.        , 0.61415525, 0.69448556, 0.        , 0.1895998 ,\n",
              "        0.2310394 ],\n",
              "       ...,\n",
              "       [0.        , 0.35388128, 0.12436231, 0.4       , 0.55867095,\n",
              "        0.65283723],\n",
              "       [0.72707424, 0.11643836, 0.24109026, 0.3       , 0.47554348,\n",
              "        0.45121282],\n",
              "       [0.45414847, 0.39954338, 0.05841797, 0.5       , 0.2854496 ,\n",
              "        0.64581275]])"
            ]
          },
          "metadata": {},
          "execution_count": 184
        }
      ]
    },
    {
      "cell_type": "code",
      "source": [
        "from sklearn.linear_model import LinearRegression\n",
        "from sklearn.tree import DecisionTreeRegressor\n",
        "#model =  DecisionTreeRegressor()\n",
        "model = LinearRegression()\n",
        "model.fit(housing_num_tr,housing_label)"
      ],
      "metadata": {
        "colab": {
          "base_uri": "https://localhost:8080/",
          "height": 74
        },
        "id": "HS-z09VqMehb",
        "outputId": "b1195ee1-f8f2-4576-c736-00a8c35b1b32"
      },
      "execution_count": null,
      "outputs": [
        {
          "output_type": "execute_result",
          "data": {
            "text/plain": [
              "LinearRegression()"
            ],
            "text/html": [
              "<style>#sk-container-id-6 {color: black;background-color: white;}#sk-container-id-6 pre{padding: 0;}#sk-container-id-6 div.sk-toggleable {background-color: white;}#sk-container-id-6 label.sk-toggleable__label {cursor: pointer;display: block;width: 100%;margin-bottom: 0;padding: 0.3em;box-sizing: border-box;text-align: center;}#sk-container-id-6 label.sk-toggleable__label-arrow:before {content: \"▸\";float: left;margin-right: 0.25em;color: #696969;}#sk-container-id-6 label.sk-toggleable__label-arrow:hover:before {color: black;}#sk-container-id-6 div.sk-estimator:hover label.sk-toggleable__label-arrow:before {color: black;}#sk-container-id-6 div.sk-toggleable__content {max-height: 0;max-width: 0;overflow: hidden;text-align: left;background-color: #f0f8ff;}#sk-container-id-6 div.sk-toggleable__content pre {margin: 0.2em;color: black;border-radius: 0.25em;background-color: #f0f8ff;}#sk-container-id-6 input.sk-toggleable__control:checked~div.sk-toggleable__content {max-height: 200px;max-width: 100%;overflow: auto;}#sk-container-id-6 input.sk-toggleable__control:checked~label.sk-toggleable__label-arrow:before {content: \"▾\";}#sk-container-id-6 div.sk-estimator input.sk-toggleable__control:checked~label.sk-toggleable__label {background-color: #d4ebff;}#sk-container-id-6 div.sk-label input.sk-toggleable__control:checked~label.sk-toggleable__label {background-color: #d4ebff;}#sk-container-id-6 input.sk-hidden--visually {border: 0;clip: rect(1px 1px 1px 1px);clip: rect(1px, 1px, 1px, 1px);height: 1px;margin: -1px;overflow: hidden;padding: 0;position: absolute;width: 1px;}#sk-container-id-6 div.sk-estimator {font-family: monospace;background-color: #f0f8ff;border: 1px dotted black;border-radius: 0.25em;box-sizing: border-box;margin-bottom: 0.5em;}#sk-container-id-6 div.sk-estimator:hover {background-color: #d4ebff;}#sk-container-id-6 div.sk-parallel-item::after {content: \"\";width: 100%;border-bottom: 1px solid gray;flex-grow: 1;}#sk-container-id-6 div.sk-label:hover label.sk-toggleable__label {background-color: #d4ebff;}#sk-container-id-6 div.sk-serial::before {content: \"\";position: absolute;border-left: 1px solid gray;box-sizing: border-box;top: 0;bottom: 0;left: 50%;z-index: 0;}#sk-container-id-6 div.sk-serial {display: flex;flex-direction: column;align-items: center;background-color: white;padding-right: 0.2em;padding-left: 0.2em;position: relative;}#sk-container-id-6 div.sk-item {position: relative;z-index: 1;}#sk-container-id-6 div.sk-parallel {display: flex;align-items: stretch;justify-content: center;background-color: white;position: relative;}#sk-container-id-6 div.sk-item::before, #sk-container-id-6 div.sk-parallel-item::before {content: \"\";position: absolute;border-left: 1px solid gray;box-sizing: border-box;top: 0;bottom: 0;left: 50%;z-index: -1;}#sk-container-id-6 div.sk-parallel-item {display: flex;flex-direction: column;z-index: 1;position: relative;background-color: white;}#sk-container-id-6 div.sk-parallel-item:first-child::after {align-self: flex-end;width: 50%;}#sk-container-id-6 div.sk-parallel-item:last-child::after {align-self: flex-start;width: 50%;}#sk-container-id-6 div.sk-parallel-item:only-child::after {width: 0;}#sk-container-id-6 div.sk-dashed-wrapped {border: 1px dashed gray;margin: 0 0.4em 0.5em 0.4em;box-sizing: border-box;padding-bottom: 0.4em;background-color: white;}#sk-container-id-6 div.sk-label label {font-family: monospace;font-weight: bold;display: inline-block;line-height: 1.2em;}#sk-container-id-6 div.sk-label-container {text-align: center;}#sk-container-id-6 div.sk-container {/* jupyter's `normalize.less` sets `[hidden] { display: none; }` but bootstrap.min.css set `[hidden] { display: none !important; }` so we also need the `!important` here to be able to override the default hidden behavior on the sphinx rendered scikit-learn.org. See: https://github.com/scikit-learn/scikit-learn/issues/21755 */display: inline-block !important;position: relative;}#sk-container-id-6 div.sk-text-repr-fallback {display: none;}</style><div id=\"sk-container-id-6\" class=\"sk-top-container\"><div class=\"sk-text-repr-fallback\"><pre>LinearRegression()</pre><b>In a Jupyter environment, please rerun this cell to show the HTML representation or trust the notebook. <br />On GitHub, the HTML representation is unable to render, please try loading this page with nbviewer.org.</b></div><div class=\"sk-container\" hidden><div class=\"sk-item\"><div class=\"sk-estimator sk-toggleable\"><input class=\"sk-toggleable__control sk-hidden--visually\" id=\"sk-estimator-id-6\" type=\"checkbox\" checked><label for=\"sk-estimator-id-6\" class=\"sk-toggleable__label sk-toggleable__label-arrow\">LinearRegression</label><div class=\"sk-toggleable__content\"><pre>LinearRegression()</pre></div></div></div></div></div>"
            ]
          },
          "metadata": {},
          "execution_count": 185
        }
      ]
    },
    {
      "cell_type": "code",
      "source": [
        "import numpy as np\n",
        "from sklearn.metrics import mean_squared_error\n",
        "housing_prediction = model.predict(housing_num_tr)\n",
        "lin_mse = mean_squared_error(housing_label,housing_prediction)\n",
        "lin_rmse=np.sqrt(lin_mse)\n",
        "lin_rmse"
      ],
      "metadata": {
        "colab": {
          "base_uri": "https://localhost:8080/"
        },
        "id": "Sn-CD3OXQhbH",
        "outputId": "14b276f3-78ce-49c6-fb8b-2aaafe5c7171"
      },
      "execution_count": null,
      "outputs": [
        {
          "output_type": "execute_result",
          "data": {
            "text/plain": [
              "7.856593054899679"
            ]
          },
          "metadata": {},
          "execution_count": 186
        }
      ]
    },
    {
      "cell_type": "code",
      "source": [
        "from sklearn.model_selection import cross_val_score\n",
        "scores = cross_val_score(model,housing_num_tr,housing_label,scoring=\"neg_mean_squared_error\",cv=10)\n",
        "rmse_scores=np.sqrt(-scores)\n",
        "rmse_scores"
      ],
      "metadata": {
        "colab": {
          "base_uri": "https://localhost:8080/"
        },
        "id": "hpznDkiEcYaS",
        "outputId": "edc85524-d896-404f-a08e-badbf6bd75da"
      },
      "execution_count": null,
      "outputs": [
        {
          "output_type": "execute_result",
          "data": {
            "text/plain": [
              "array([ 6.4440604 ,  8.48684751,  6.23238765,  9.07826977, 11.09009597,\n",
              "        5.94282125,  6.0228277 ,  7.10544594,  7.96374784, 10.43318023])"
            ]
          },
          "metadata": {},
          "execution_count": 187
        }
      ]
    },
    {
      "cell_type": "code",
      "source": [
        "def print_scores(scores):\n",
        "  print(\"Scores\",scores)\n",
        "  print(\"Mean\",scores.mean())\n",
        "  print(\"Std\",scores.std())\n",
        "\n"
      ],
      "metadata": {
        "id": "LE8qdbo6fWK3"
      },
      "execution_count": null,
      "outputs": []
    },
    {
      "cell_type": "code",
      "source": [
        "print_scores(rmse_scores)"
      ],
      "metadata": {
        "colab": {
          "base_uri": "https://localhost:8080/"
        },
        "id": "U5r4I7XHgIQn",
        "outputId": "a7d25850-faa8-49a3-a044-7640b1b632db"
      },
      "execution_count": null,
      "outputs": [
        {
          "output_type": "stream",
          "name": "stdout",
          "text": [
            "Scores [ 6.4440604   8.48684751  6.23238765  9.07826977 11.09009597  5.94282125\n",
            "  6.0228277   7.10544594  7.96374784 10.43318023]\n",
            "Mean 7.8799684249465\n",
            "Std 1.766714660562555\n"
          ]
        }
      ]
    },
    {
      "cell_type": "code",
      "source": [
        "from joblib import dump,load\n",
        "dump(model,'Dragon.joblib')"
      ],
      "metadata": {
        "colab": {
          "base_uri": "https://localhost:8080/"
        },
        "id": "3nJmGVkqhNfN",
        "outputId": "db1cd6d1-2816-41e3-f5cb-e51a01edf669"
      },
      "execution_count": null,
      "outputs": [
        {
          "output_type": "execute_result",
          "data": {
            "text/plain": [
              "['Dragon.joblib']"
            ]
          },
          "metadata": {},
          "execution_count": 190
        }
      ]
    },
    {
      "cell_type": "code",
      "source": [],
      "metadata": {
        "id": "Lb59kgoPxYte"
      },
      "execution_count": null,
      "outputs": []
    },
    {
      "cell_type": "code",
      "source": [
        "x_test = strat_test_set.drop('Y_House_Price_of_Unit_Area',axis=1)\n",
        "y_test = strat_test_set['Y_House_Price_of_Unit_Area'].copy()\n",
        "x_test_prepared = my_pipeline.transform(x_test)\n",
        "final_predictions=model.predict(x_test_prepared)\n",
        "final_mse = mean_squared_error(y_test,final_predictions)\n",
        "lin_rmse=np.sqrt(lin_mse)\n",
        "lin_rmse\n"
      ],
      "metadata": {
        "colab": {
          "base_uri": "https://localhost:8080/"
        },
        "id": "pXJ7yDBbi1o7",
        "outputId": "d05639f0-4cd9-4e09-ef85-8d5799c27998"
      },
      "execution_count": null,
      "outputs": [
        {
          "output_type": "execute_result",
          "data": {
            "text/plain": [
              "7.856593054899679"
            ]
          },
          "metadata": {},
          "execution_count": 191
        }
      ]
    },
    {
      "cell_type": "code",
      "source": [
        "print(final_predictions,list(y_test))"
      ],
      "metadata": {
        "colab": {
          "base_uri": "https://localhost:8080/"
        },
        "id": "xrLBv3sflnjf",
        "outputId": "e5360426-78e3-4c38-f324-3b0ab3e06c4b"
      },
      "execution_count": null,
      "outputs": [
        {
          "output_type": "stream",
          "name": "stdout",
          "text": [
            "[46.603834   43.55260408 15.69981383 27.90045345 45.89431067 14.21316389\n",
            " 43.88779185 33.86849021 35.43417191 39.61787215 33.24572682 51.56369711\n",
            " 37.79694099 30.42164403 47.0745384  40.79732866 13.11535608 52.64998348\n",
            " 48.025579   40.62351978 46.1827794  32.59446628 40.92359296 34.64129521\n",
            " 31.65821399 35.08230785 37.74140194 26.41397061 39.4254383  40.84756668\n",
            " 30.59444923 37.53972393 44.22289662 40.57884255 11.49621314 45.01024738\n",
            " 46.5991322  28.73321605 42.9509527  13.17734347 35.85101865 40.26610337\n",
            " 28.83138998 44.31827524 30.05469875 52.05524857 49.16043007 37.15867523\n",
            " 32.59195725 53.95738223 45.31218187 45.53428395 14.61779741 45.85193235\n",
            " 49.19012767 42.82310668 42.70634706 47.37412766 50.058599   38.32115474\n",
            " 37.81040668 13.12426447 34.64129521 38.1906696  28.61265779 34.61887884\n",
            " 43.00928028 50.34136556 23.46942842 39.69404468 45.1460923  13.29773972\n",
            " 37.56660939 48.48582287 44.10983426 32.7497079  53.64871737 30.09953149\n",
            " 47.74617871 13.45038849 38.30020252 46.83129523 54.31875922] [59.6, 40.3, 25.3, 24.7, 55.0, 45.1, 34.4, 23.6, 38.8, 117.5, 33.4, 56.3, 60.7, 27.7, 53.7, 30.0, 17.4, 46.6, 47.3, 42.3, 49.3, 42.9, 22.8, 30.7, 27.0, 26.9, 37.9, 25.9, 50.2, 44.2, 29.5, 36.6, 41.0, 33.6, 11.2, 26.5, 45.1, 21.8, 40.6, 14.7, 39.0, 45.5, 31.9, 40.2, 26.6, 58.0, 39.5, 37.4, 23.1, 54.4, 51.7, 36.3, 15.6, 51.4, 42.2, 38.4, 51.7, 49.7, 69.7, 37.8, 40.3, 11.6, 33.4, 46.4, 25.6, 31.3, 33.1, 73.6, 19.1, 39.3, 40.1, 29.3, 32.9, 47.1, 41.9, 30.6, 58.1, 28.9, 54.8, 12.8, 55.2, 62.1, 44.7]\n"
          ]
        }
      ]
    }
  ]
}